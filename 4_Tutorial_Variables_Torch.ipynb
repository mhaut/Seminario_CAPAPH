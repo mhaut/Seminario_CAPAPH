{
 "cells": [
  {
   "cell_type": "markdown",
   "metadata": {},
   "source": [
    "# Arquitecturas Especializadas\n",
    "\n",
    "### Profesor: Juan Mario Haut Hurtado\n",
    "### 4º Ingeniería en Informática en Ingeniería de Computadores\n",
    "__________________________________________________________________"
   ]
  },
  {
   "cell_type": "markdown",
   "metadata": {},
   "source": [
    "# Variables"
   ]
  },
  {
   "cell_type": "code",
   "execution_count": 1,
   "metadata": {},
   "outputs": [],
   "source": [
    "import torch\n",
    "from torch.autograd import Variable"
   ]
  },
  {
   "cell_type": "code",
   "execution_count": null,
   "metadata": {},
   "outputs": [],
   "source": [
    "# creamos un tensor\n",
    "tensor = torch.FloatTensor([[1,2],[3,4]])\n",
    "\n",
    "# creamos una variable de Torch, normalemnte requieren computar gradientes\n",
    "variable = Variable(tensor, requires_grad=True)\n",
    "\n",
    "print(tensor)       # [torch.FloatTensor of size 2x2]\n",
    "print(variable)     # [torch.FloatTensor of size 2x2]"
   ]
  },
  {
   "cell_type": "markdown",
   "metadata": {},
   "source": [
    "El tensor y la variable parecen iguales.\n",
    "\n",
    "Sin embargo, la variable con autograd forma parte parte del grafo de ejecución y por tanto, es parte del gradiente automático. "
   ]
  },
  {
   "cell_type": "code",
   "execution_count": null,
   "metadata": {},
   "outputs": [],
   "source": [
    "t_out = torch.mean(tensor*tensor)       # x^2\n",
    "v_out = torch.mean(variable*variable)   # x^2\n",
    "print(t_out)\n",
    "print(v_out)"
   ]
  },
  {
   "cell_type": "code",
   "execution_count": 4,
   "metadata": {},
   "outputs": [],
   "source": [
    "v_out.backward()    # backpropagation from v_out"
   ]
  },
  {
   "cell_type": "markdown",
   "metadata": {},
   "source": [
    "$$ v_{out} = {{1} \\over {4}} sum(variable^2) $$\n",
    "\n",
    "los gradientes respecto a las variables, \n",
    "\n",
    "$$ {d(v_{out}) \\over d(variable)} = {{1} \\over {4}} 2 variable = {variable \\over 2}$$\n",
    "\n",
    "Comprobemos el resultado:"
   ]
  },
  {
   "cell_type": "code",
   "execution_count": null,
   "metadata": {},
   "outputs": [],
   "source": [
    "variable.grad"
   ]
  },
  {
   "cell_type": "code",
   "execution_count": null,
   "metadata": {},
   "outputs": [],
   "source": [
    "variable # estos son datos en formato variable "
   ]
  },
  {
   "cell_type": "code",
   "execution_count": null,
   "metadata": {},
   "outputs": [],
   "source": [
    "variable.data # estos son datos en formato tensor"
   ]
  },
  {
   "cell_type": "code",
   "execution_count": null,
   "metadata": {},
   "outputs": [],
   "source": [
    "variable.data.numpy() # estos son datos en formato numpy"
   ]
  },
  {
   "cell_type": "markdown",
   "metadata": {},
   "source": [
    "Ojo, nosotros hicimos `.backward()` en `v_out` pero `variable` se le han asignado nuevos valores en `grad`.\n",
    "\n",
    "Como esta linea\n",
    "```\n",
    "v_out = torch.mean(variable*variable)\n",
    "``` \n",
    "Hará una nueva variable `v_out` y la conectará con `variable` en el grafo de computación."
   ]
  },
  {
   "cell_type": "code",
   "execution_count": null,
   "metadata": {},
   "outputs": [],
   "source": [
    "type(v_out)"
   ]
  },
  {
   "cell_type": "code",
   "execution_count": null,
   "metadata": {},
   "outputs": [],
   "source": [
    "type(v_out.data)"
   ]
  },
  {
   "cell_type": "markdown",
   "metadata": {},
   "source": [
    "Para pasar la variable de cpu a cuda o de cuda a cpu, símplmente llamamos a la función"
   ]
  },
  {
   "cell_type": "code",
   "execution_count": null,
   "metadata": {},
   "outputs": [],
   "source": [
    "variableCUDA = variable.cuda()\n",
    "print(variableCUDA)\n",
    "variableCPU = variableCUDA.cpu()\n",
    "print(variableCPU)"
   ]
  },
  {
   "cell_type": "code",
   "execution_count": null,
   "metadata": {},
   "outputs": [],
   "source": [
    "# No puedo operar convariables en diferentes dispositivos\n",
    "resultadoFinal = variableCUDA + variableCPU\n",
    "print(resultadoFinal)"
   ]
  },
  {
   "cell_type": "code",
   "execution_count": null,
   "metadata": {},
   "outputs": [],
   "source": [
    "# Deben estar alojados en el mismo sitio\n",
    "resultadoFinal = variableCUDA + variableCPU.cuda()\n",
    "print(\"CUDA\", resultadoFinal)\n",
    "\n",
    "# Deben estar alojados en el mismo sitio\n",
    "resultadoFinal = variableCUDA.cpu() + variableCPU\n",
    "print(\"CPU\", resultadoFinal)"
   ]
  }
 ],
 "metadata": {
  "kernelspec": {
   "display_name": "Python 3 (ipykernel)",
   "language": "python",
   "name": "python3"
  },
  "language_info": {
   "codemirror_mode": {
    "name": "ipython",
    "version": 3
   },
   "file_extension": ".py",
   "mimetype": "text/x-python",
   "name": "python",
   "nbconvert_exporter": "python",
   "pygments_lexer": "ipython3",
   "version": "3.10.6"
  }
 },
 "nbformat": 4,
 "nbformat_minor": 2
}
