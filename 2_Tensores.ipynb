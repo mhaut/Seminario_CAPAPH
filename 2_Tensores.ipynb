{
 "cells": [
  {
   "cell_type": "markdown",
   "metadata": {},
   "source": [
    "# Seminario de Invierno. CAPAP-H\n",
    "# Cáceres. 29-31 Enero 2025\n",
    "\n",
    "#### Juan Mario Haut Hurtado. Correo: juanmariohaut@unex.es"
   ]
  },
  {
   "cell_type": "markdown",
   "metadata": {},
   "source": [
    "# Tensores\n",
    "\n",
    "Más información en: https://en.wikipedia.org/wiki/Tensor"
   ]
  },
  {
   "cell_type": "markdown",
   "metadata": {},
   "source": [
    "Un tensor es una generalización de vectores y matrices a n dimensiones. Comprender cómo interactúan entre sí es fundamental para el aprendizaje automático.\n",
    "\n",
    "\n",
    "Aunque los tensores parecen ser objetos complejos, se pueden entender como una colección de vectores y matrices. Comprender los vectores y las matrices es esencial para comprender los tensores.\n",
    "Un vector es una lista unidimensional de elementos. Ejemplo:\n",
    "<p align=\"center\">\n",
    "  <img src=\"./images/img1.webp\" alt=\"Texto alternativo\">\n",
    "</p>\n",
    "Donde:\n",
    "- \\( T \\) es el tensor.\n",
    "- \\( x_1, x_2, x_3, x_4 \\) son los elementos individuales del tensor.\n",
    "\n",
    "Una matriz es una lista bidimensional de vectores. El subíndice indica la (fila, columna):\n",
    "<p align=\"center\">\n",
    "  <img src=\"./images/img2.webp\" alt=\"Texto alternativo\">\n",
    "</p>\n",
    "\n",
    "\n",
    "Otra forma de pensar en una matriz es como un vector con vectores como sus elementos. Ten en cuenta que comúnmente se notan con letras mayúsculas. Un tensor tridimensional se puede entender como una lista tridimensional de matrices:\n",
    "<p align=\"center\">\n",
    "  <img src=\"./images/img3.webp\" alt=\"Texto alternativo\">\n",
    "</p>\n",
    "\n",
    "Otra forma de pensar en un tensor tridimensional es como un vector formado por matrices. Ten en cuenta que en este artículo se notan con letras mayúsculas caligráficas. Un tensor tetradimensional se puede entender como una lista tetradimensional de tensores tridimensionales:\n",
    "<p align=\"center\" style=\"background-color: white;\">\n",
    "  <img src=\"./images/img4.webp\" alt=\"Texto alternativo\">\n",
    "</p>\n",
    "\n",
    "Otra manera de pensar en un tensor tetradimensional es como un vector cuyos elementos son tensores tridimensionales. "
   ]
  }
 ],
 "metadata": {
  "kernelspec": {
   "display_name": "Python 3 (ipykernel)",
   "language": "python",
   "name": "python3"
  },
  "language_info": {
   "codemirror_mode": {
    "name": "ipython",
    "version": 3
   },
   "file_extension": ".py",
   "mimetype": "text/x-python",
   "name": "python",
   "nbconvert_exporter": "python",
   "pygments_lexer": "ipython3",
   "version": "3.10.6"
  }
 },
 "nbformat": 4,
 "nbformat_minor": 2
}
