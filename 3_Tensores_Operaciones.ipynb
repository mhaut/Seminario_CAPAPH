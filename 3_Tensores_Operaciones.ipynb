{
 "cells": [
  {
   "cell_type": "markdown",
   "metadata": {},
   "source": [
    "# Seminario de Invierno. CAPAP-H\n",
    "# Cáceres. 29-31 Enero 2025\n",
    "\n",
    "#### Juan Mario Haut Hurtado. Correo: juanmariohaut@unex.es"
   ]
  },
  {
   "cell_type": "markdown",
   "metadata": {},
   "source": [
    "# Tensores\n",
    "\n",
    "Más información en: https://en.wikipedia.org/wiki/Tensor"
   ]
  },
  {
   "cell_type": "markdown",
   "metadata": {},
   "source": []
  },
  {
   "cell_type": "code",
   "execution_count": null,
   "metadata": {},
   "outputs": [],
   "source": [
    "!pip3 install torch torchvision torchaudio"
   ]
  },
  {
   "cell_type": "code",
   "execution_count": 2,
   "metadata": {},
   "outputs": [],
   "source": [
    "import torch\n",
    "import numpy as np"
   ]
  },
  {
   "cell_type": "code",
   "execution_count": null,
   "metadata": {},
   "outputs": [],
   "source": [
    "# Creación de numpy\n",
    "dato_numpy = np.array([a for a in range(10)])\n",
    "# convertimos el vector de 10 a una matriz de 2x5\n",
    "dato_numpy = dato_numpy.reshape(2,5)\n",
    "# Convertir numpy a tensores de Torch\n",
    "dato_torch = torch.from_numpy(dato_numpy)\n",
    "# Convertir tensor Torch a numpy array\n",
    "tensor2array = dato_torch.numpy()\n",
    "print('\\nnumpy array:', dato_numpy, '\\ntorch tensor:', dato_torch, '\\ntensor to array:', tensor2array)"
   ]
  },
  {
   "cell_type": "code",
   "execution_count": null,
   "metadata": {},
   "outputs": [],
   "source": [
    "# Valor absoluto\n",
    "data = [-1, -2, 1, 2]\n",
    "tensor = torch.FloatTensor(data)  # Conversión a float (no es double)\n",
    "print(\n",
    "    '\\nabs',\n",
    "    '\\nnumpy: ', np.abs(data),\n",
    "    '\\ntorch: ', torch.abs(tensor)\n",
    ")"
   ]
  },
  {
   "cell_type": "code",
   "execution_count": null,
   "metadata": {},
   "outputs": [],
   "source": [
    "print(tensor)\n",
    "print(tensor.abs())"
   ]
  },
  {
   "cell_type": "code",
   "execution_count": null,
   "metadata": {},
   "outputs": [],
   "source": [
    "# Coseno\n",
    "print(\n",
    "    '\\ncos',\n",
    "    '\\nnumpy: ', np.cos(data),\n",
    "    '\\ntorch: ', torch.cos(tensor)\n",
    ")"
   ]
  },
  {
   "cell_type": "code",
   "execution_count": null,
   "metadata": {},
   "outputs": [],
   "source": [
    "tensor.sigmoid()"
   ]
  },
  {
   "cell_type": "code",
   "execution_count": null,
   "metadata": {},
   "outputs": [],
   "source": [
    "tensor.exp()"
   ]
  },
  {
   "cell_type": "code",
   "execution_count": null,
   "metadata": {},
   "outputs": [],
   "source": [
    "# Media\n",
    "print(\n",
    "    '\\nMedia',\n",
    "    '\\nnumpy: ', np.average(tensor),\n",
    "    '\\ntorch: ', torch.mean(tensor)\n",
    ")"
   ]
  },
  {
   "cell_type": "code",
   "execution_count": null,
   "metadata": {},
   "outputs": [],
   "source": [
    "# Multiplicación de matrices\n",
    "data = np.array([[1,2], [3,4]])\n",
    "tensor = torch.FloatTensor(data)  # Conversión a float (32bits)\n",
    "# Método correcto\n",
    "print(\n",
    "    '\\nMultiplicación de Matrices (matmul)',\n",
    "    '\\nnumpy: ', np.matmul(data, data),      # [[7, 10], [15, 22]]\n",
    "    '\\nnumpy: ', data @ data,                # [[7, 10], [15, 22]]\n",
    "    '\\ntorch: ', torch.mm(tensor, tensor),   # [[7, 10], [15, 22]]\n",
    "    '\\ntorch: ', tensor @ tensor             # [[7, 10], [15, 22]]\n",
    ")\n",
    "\n",
    "print(\"--------------------------------------------------\")\n",
    "\n",
    "\n",
    "# Método incorrecto: Esto es multiplicar elemento a elemento\n",
    "print(\n",
    "    '\\nMultiplicación de Matrices (matmul)',\n",
    "    '\\nnumpy: ', np.multiply(data, data),\n",
    "    '\\nnumpy: ', data*data,\n",
    "    '\\ntorch: ', torch.mul(tensor, tensor),\n",
    "    '\\ntorch: ', tensor*tensor\n",
    ")\n",
    "\n",
    "print(\"--------------------------------------------------\")"
   ]
  },
  {
   "cell_type": "markdown",
   "metadata": {},
   "source": [
    "Muy importante: Multiplicar matrices no es multiplicarlas elemento a elemento."
   ]
  }
 ],
 "metadata": {
  "kernelspec": {
   "display_name": "Python 3 (ipykernel)",
   "language": "python",
   "name": "python3"
  },
  "language_info": {
   "codemirror_mode": {
    "name": "ipython",
    "version": 3
   },
   "file_extension": ".py",
   "mimetype": "text/x-python",
   "name": "python",
   "nbconvert_exporter": "python",
   "pygments_lexer": "ipython3",
   "version": "3.12.8"
  }
 },
 "nbformat": 4,
 "nbformat_minor": 2
}
